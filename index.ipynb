{
 "cells": [
  {
   "cell_type": "markdown",
   "metadata": {},
   "source": [
    "# Conditional Probability - Lab\n",
    "\n",
    "## Introduction\n",
    "\n",
    "In order to be ready for real-world applications of probability, it is important to understand what happens when probabilities are not independent. Very often, the probability of a certain event depends on other events happening! Let's see how this all works in this lab.\n",
    "\n",
    "## Objectives\n",
    "\n",
    "You will be able to:\n",
    "\n",
    "* Differentiate between independent and dependent events\n",
    "* Use the multiplication rule to find the probability of the intersection of two events\n",
    "\n",
    "## Exercise 1\n",
    "A coin is tossed and a single 6-sided dice is rolled. Find the probability of landing on the head side of the coin and rolling a 3 on the dice."
   ]
  },
  {
   "cell_type": "code",
   "execution_count": 1,
   "metadata": {},
   "outputs": [
    {
     "data": {
      "text/plain": [
       "0.08333333333333333"
      ]
     },
     "execution_count": 1,
     "metadata": {},
     "output_type": "execute_result"
    }
   ],
   "source": [
    "# Your code here\n",
    "## Independent events P(A & B) = P(A) * P(B)\n",
    "\n",
    "## Define sample space\n",
    "coin_sample_space = 2 ## A\n",
    "dice_sample_space = 6 ## B\n",
    "## Define event space\n",
    "coin_head_event = 1 ## A\n",
    "dice_3_event = 1 ## B\n",
    "\n",
    "dice_prob1 = dice_3_event / dice_sample_space ## P(B)\n",
    "coin_prob1 = coin_head_event / coin_sample_space ## P(A)\n",
    "\n",
    "ex1_prob = dice_prob1*coin_prob1 ## P(A & B)\n",
    "ex1_prob"
   ]
  },
  {
   "cell_type": "markdown",
   "metadata": {},
   "source": [
    "## Exercise 2\n",
    "\n",
    "\n",
    "After conducting a survey, one of the outcomes was that 8 out of 10 of the survey subjects liked chocolate chip cookies. If three survey subjects are chosen at random **with replacement**, what is the probability that all three like chocolate chip cookies?"
   ]
  },
  {
   "cell_type": "code",
   "execution_count": 2,
   "metadata": {},
   "outputs": [
    {
     "data": {
      "text/plain": [
       "0.5120000000000001"
      ]
     },
     "execution_count": 2,
     "metadata": {},
     "output_type": "execute_result"
    }
   ],
   "source": [
    "# Your code here\n",
    "## Independent events P(A & B & C) = P(A) * P(B) * P(C)\n",
    "\n",
    "## Probabilities with replacement of the 1st, 2nd, 3rd\n",
    "choco_chip_prob1 = 8/10 ## P(A)\n",
    "choco_chip_prob2 = 8/10 ## P(B)\n",
    "choco_chip_prob3 = 8/10 ## P(C)\n",
    "\n",
    "## Decision tree might help visiualize why this is the right product\n",
    "ex2_prob = choco_chip_prob1*choco_chip_prob2*choco_chip_prob3\n",
    "ex2_prob"
   ]
  },
  {
   "cell_type": "markdown",
   "metadata": {},
   "source": [
    "## Exercise 3\n",
    "70% of your friends like chocolate flavored ice cream, and 35% like chocolate AND like strawberry flavors.\n",
    "\n",
    "What percent of those who like chocolate also like strawberry?"
   ]
  },
  {
   "cell_type": "code",
   "execution_count": 3,
   "metadata": {},
   "outputs": [
    {
     "data": {
      "text/plain": [
       "0.5"
      ]
     },
     "execution_count": 3,
     "metadata": {},
     "output_type": "execute_result"
    }
   ],
   "source": [
    "# Your code here\n",
    "## Probability of strawberry given chocolate P(A | B) = P(A & B) / P(B)\n",
    "\n",
    "## Probabilities with replacement of the 1st, 2nd, 3rd\n",
    "choco_icecream_prob = 0.7 ## P(B)\n",
    "strawb_choco_icecream_prob = 0.35 ## P(A & B)\n",
    "\n",
    "ex3_prob = strawb_choco_icecream_prob / choco_icecream_prob  ## P(A | B)\n",
    "ex3_prob"
   ]
  },
  {
   "cell_type": "markdown",
   "metadata": {},
   "source": [
    "50% of your friends who like chocolate also like strawberry\n",
    "\n",
    "## Exercise 4\n",
    "What is the probability of drawing 2 consecutive aces from a deck of cards. "
   ]
  },
  {
   "cell_type": "code",
   "execution_count": 4,
   "metadata": {},
   "outputs": [
    {
     "data": {
      "text/plain": [
       "0.004524886877828055"
      ]
     },
     "execution_count": 4,
     "metadata": {},
     "output_type": "execute_result"
    }
   ],
   "source": [
    "# Your code here\n",
    "## Dependent events, sample space 52 cards, tree diagram  \n",
    "## P( A & B) = P(A | B) * P(B) = P(B | A) * P(A)\n",
    "first_ace = 4/52 # P(A)\n",
    "second_ace = 3/51 # P(B | A)\n",
    "\n",
    "## Decision tree will help visiualize why this is the right product\n",
    "ex4_prob = first_ace * second_ace ## P(A & B)\n",
    "ex4_prob"
   ]
  },
  {
   "cell_type": "markdown",
   "metadata": {},
   "source": [
    "## Exercise 5\n",
    "In a manufacturing factory that produces a certain product, there are 100 units of the product, 5 of which are defective. We pick three units from the 100 units at random. \n",
    "\n",
    "What is the probability that none of them are defective?\n",
    "Hint: Use the chain rule here!"
   ]
  },
  {
   "cell_type": "code",
   "execution_count": 5,
   "metadata": {},
   "outputs": [
    {
     "data": {
      "text/plain": [
       "0.8559987631416203"
      ]
     },
     "execution_count": 5,
     "metadata": {},
     "output_type": "execute_result"
    }
   ],
   "source": [
    "# Your code here\n",
    "## Chain Rule: P(A & B & C) = 𝑃(𝐴∣𝐵∩𝐶)𝑃(𝐵∣𝐶)𝑃(𝐶)\n",
    "\n",
    "## Probabilities with replacement of the 1st, 2nd, 3rd\n",
    "nodefects_prob1 = 95/100 ## P(C)\n",
    "nodefects_prob2 = 94/99  ## P(B | C)\n",
    "nodefects_prob3 = 93/98 ## P(A | B & C)\n",
    "\n",
    "## Decision tree might help visiualize why this is the right product\n",
    "ex5_prob = nodefects_prob1*nodefects_prob2*nodefects_prob3  ## P(A | B)\n",
    "ex5_prob"
   ]
  },
  {
   "cell_type": "markdown",
   "metadata": {},
   "source": [
    "## Exercise 6\n",
    "\n",
    "Let's consider the example where 2 dice are thrown. Given that **at least one** of the dice has come up on a number higher than 4, what is the probability that the sum is 8?\n",
    "\n",
    "Let $i,j$ be the numbers shown on the dice. The events $A$ and $B$ are described below:\n",
    "\n",
    "* **Event $A$ is when either $i$ or $j$ is 5 or 6** (keep an eye on either - or)\n",
    "* **Event $B$ is when $i + j = 8$**\n",
    "\n",
    "\n",
    "* What is the size of sample space $\\Omega$ ?\n",
    "* What is $P(A \\cap B)$ ?\n",
    "* What is $P(A)$ ?\n",
    "* Use above to calculate $P(B \\mid A)$"
   ]
  },
  {
   "cell_type": "code",
   "execution_count": 6,
   "metadata": {},
   "outputs": [
    {
     "data": {
      "text/plain": [
       "0.19999999999999998"
      ]
     },
     "execution_count": 6,
     "metadata": {},
     "output_type": "execute_result"
    }
   ],
   "source": [
    "# Your code here\n",
    "## P(B | A) = P(A & B) / P(A)\n",
    "\n",
    "## Sample space is 36 combinations\n",
    "\n",
    "# Event A -- Independent dice rolls P(A)\n",
    "roll_1_prob = 2/6\n",
    "roll_2_prob = 2/6\n",
    "prob_A = roll_1_prob*roll_2_prob\n",
    "\n",
    "# Event B \n",
    "\n",
    "## Probabilities with replacement of the 1st, 2nd, 3rd\n",
    "\n",
    "\n",
    "## Decision tree might help visiualize why this is the right product\n",
    "ex5_prob = (4/36)/(20/36) # apparently...need to clarify how   ## P(B | A)\n",
    "ex5_prob\n",
    "\n",
    "## This website may help visualize this example\n",
    "## https://www.math-only-math.com/probability-for-rolling-two-dice.html"
   ]
  },
  {
   "cell_type": "markdown",
   "metadata": {},
   "source": [
    "## Exercise 7\n",
    "\n",
    "Let's consider a credit card example. At a supermarket, customers are selected randomly, the store owner recorded whether costumers owned a Visa card (event A) or an Amex credit card (event B). Some customers own both cards.\n",
    "You can assume that:\n",
    "\n",
    "- $P(A)$ = 0.5\n",
    "- $P(B)$ = 0.4\n",
    "- both $A$ and $B$ = 0.25.\n",
    "\n",
    "\n",
    "With the knowledge we have about conditional probabilities, compute and interpret the following probabilities:\n",
    "\n",
    "- $P(B \\mid A)$\n",
    "- $P(B' \\mid A)$\n",
    "- $P(A \\mid B)$\n",
    "- $P(A' \\mid B)$\n"
   ]
  },
  {
   "cell_type": "code",
   "execution_count": 7,
   "metadata": {},
   "outputs": [
    {
     "name": "stdout",
     "output_type": "stream",
     "text": [
      "0.5\n",
      "0.5\n",
      "0.625\n",
      "0.375\n"
     ]
    }
   ],
   "source": [
    "# Your code here\n",
    "prob_7_A = 0.5\n",
    "prob_7_B = 0.4\n",
    "prob_7_A_B = 0.25\n",
    "\n",
    "uno = prob_7_A_B / prob_7_A ## P(B | A) = P(A & B)/P(A)\n",
    "print(uno)\n",
    "dos = 1 - uno ## P(B' | A) = 1 - P(B | A)\n",
    "print(dos)\n",
    "tres = prob_7_A_B / prob_7_B ## P(A | B) = P(A & B)/P(B)\n",
    "print(tres)\n",
    "cuatro = 1 - tres ## P(A' | B) = 1 - P(A | B)\n",
    "print(cuatro)"
   ]
  },
  {
   "cell_type": "markdown",
   "metadata": {},
   "source": [
    "## Summary \n",
    "\n",
    "In this lab, you practiced conditional probability and its theorem with some simple problems. The key takeaway from this lab is to be able to identify random events as dependent or independent and calculating the probability of their occurrence using appropriate methods. Next, you'll learn about some more conditional probability axioms, building on the knowledge we have so far. "
   ]
  }
 ],
 "metadata": {
  "kernelspec": {
   "display_name": "Python 3",
   "language": "python",
   "name": "python3"
  },
  "language_info": {
   "codemirror_mode": {
    "name": "ipython",
    "version": 3
   },
   "file_extension": ".py",
   "mimetype": "text/x-python",
   "name": "python",
   "nbconvert_exporter": "python",
   "pygments_lexer": "ipython3",
   "version": "3.6.9"
  },
  "toc": {
   "base_numbering": 1,
   "nav_menu": {},
   "number_sections": true,
   "sideBar": true,
   "skip_h1_title": false,
   "title_cell": "Table of Contents",
   "title_sidebar": "Contents",
   "toc_cell": false,
   "toc_position": {},
   "toc_section_display": true,
   "toc_window_display": false
  }
 },
 "nbformat": 4,
 "nbformat_minor": 2
}
